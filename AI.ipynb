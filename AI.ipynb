{
  "nbformat": 4,
  "nbformat_minor": 0,
  "metadata": {
    "colab": {
      "provenance": []
    },
    "kernelspec": {
      "name": "python3",
      "display_name": "Python 3"
    },
    "language_info": {
      "name": "python"
    }
  },
  "cells": [
    {
      "cell_type": "code",
      "execution_count": 1,
      "metadata": {
        "id": "TSvsezxYlO7k"
      },
      "outputs": [],
      "source": [
        "import cv2\n",
        "import numpy as np\n",
        "\n",
        "# Load the video\n",
        "video_path = \"path_to_your_video.mp4\"\n",
        "cap = cv2.VideoCapture(video_path)\n",
        "\n",
        "# Define a function to split the frame into quadrants\n",
        "def split_into_quadrants(frame):\n",
        "    height, width, _ = frame.shape\n",
        "    half_height, half_width = height // 2, width // 2\n",
        "    quadrants = {\n",
        "        1: frame[:half_height, :half_width],\n",
        "        2: frame[:half_height, half_width:],\n",
        "        3: frame[half_height:, :half_width],\n",
        "        4: frame[half_height:, half_width:]\n",
        "    }\n",
        "    return quadrants\n",
        "\n",
        "# Define a function to detect balls by color\n",
        "def detect_balls(frame, color_ranges):\n",
        "    detected_balls = []\n",
        "    hsv = cv2.cvtColor(frame, cv2.COLOR_BGR2HSV)\n",
        "    for color_name, (lower, upper) in color_ranges.items():\n",
        "        mask = cv2.inRange(hsv, lower, upper)\n",
        "        contours, _ = cv2.findContours(mask, cv2.RETR_TREE, cv2.CHAIN_APPROX_SIMPLE)\n",
        "        for contour in contours:\n",
        "            if cv2.contourArea(contour) > 100:  # Minimum area to filter noise\n",
        "                x, y, w, h = cv2.boundingRect(contour)\n",
        "                detected_balls.append((color_name, x + w // 2, y + h // 2))  # Ball center\n",
        "    return detected_balls\n",
        "\n",
        "# Define color ranges for different colored balls (HSV format)\n",
        "color_ranges = {\n",
        "    \"red\": (np.array([0, 120, 70]), np.array([10, 255, 255])),\n",
        "    \"green\": (np.array([36, 100, 100]), np.array([70, 255, 255])),\n",
        "    \"blue\": (np.array([94, 80, 2]), np.array([126, 255, 255]))\n",
        "}\n",
        "\n",
        "# Main loop to process the video\n",
        "events = []\n",
        "prev_positions = {}\n",
        "\n",
        "while cap.isOpened():\n",
        "    ret, frame = cap.read()\n",
        "    if not ret:\n",
        "        break\n",
        "\n",
        "    quadrants = split_into_quadrants(frame)\n",
        "    for quadrant_num, quadrant_frame in quadrants.items():\n",
        "        detected_balls = detect_balls(quadrant_frame, color_ranges)\n",
        "        for color_name, x, y in detected_balls:\n",
        "            global_x = x + (0 if quadrant_num in [1, 3] else frame.shape[1] // 2)\n",
        "            global_y = y + (0 if quadrant_num in [1, 2] else frame.shape[0] // 2)\n",
        "            current_pos = (global_x, global_y)\n",
        "\n",
        "            if color_name in prev_positions:\n",
        "                prev_pos = prev_positions[color_name]\n",
        "                prev_quadrant = (prev_pos[1] < frame.shape[0] // 2) * 1 + (prev_pos[0] >= frame.shape[1] // 2) * 2 + (prev_pos[1] >= frame.shape[0] // 2) * 3\n",
        "                if prev_quadrant != quadrant_num:\n",
        "                    events.append((color_name, prev_quadrant, quadrant_num))\n",
        "            prev_positions[color_name] = current_pos\n",
        "\n",
        "cap.release()\n",
        "\n",
        "# Display events\n",
        "for event in events:\n",
        "    print(f\"Ball {event[0]} moved from quadrant {event[1]} to quadrant {event[2]}\")"
      ]
    }
  ]
}